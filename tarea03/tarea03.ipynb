{
 "cells": [
  {
   "cell_type": "code",
   "execution_count": 94,
   "metadata": {},
   "outputs": [],
   "source": [
    "import pandas as pd\n",
    "import numpy as np\n",
    "\n",
    "def kappa_cohen(df1, df2, column, verbose=False):\n",
    "    n = df1.shape[0]\n",
    "    c1 = df1[column].unique()\n",
    "    c2 = df2[column].unique()\n",
    "    cols = {}\n",
    "    for c in c1:\n",
    "        cols[c] = True \n",
    "    for c in c2:\n",
    "        cols[c] = True\n",
    "    cols = list(cols.keys())\n",
    "    \n",
    "    # DataFrame:\n",
    "    #   Columna: anotador 1\n",
    "    #   Fila: anotador 2\n",
    "    df_kappacohen = pd.DataFrame(columns=cols + [\"total\"])\n",
    "    for c in cols + [\"total\"]:\n",
    "        df_kappacohen.loc[c] = [0] * (len(cols) + 1) \n",
    "\n",
    "    for j, (c1, c2) in enumerate(zip(df1[column], df2[column])):\n",
    "        #df_kappacohen.loc[cols[j], cols[0]] = 1\n",
    "        df_kappacohen.loc[c1, c2] += 1\n",
    "\n",
    "    P0 = 0\n",
    "    Pe = 0\n",
    "    for c in cols:\n",
    "        tr = df_kappacohen.loc[c].sum()\n",
    "        df_kappacohen.loc[c, \"total\"] = tr\n",
    "        tc = df_kappacohen[c].sum()\n",
    "        df_kappacohen.loc[\"total\", c] = tc\n",
    "        \n",
    "        P0 += df_kappacohen.loc[c, c]\n",
    "        tr /= n\n",
    "        tc /= n\n",
    "        Pe += tr * tc\n",
    "\n",
    "    df_kappacohen.loc[\"total\", \"total\"] = n\n",
    "    P0 /= n\n",
    "\n",
    "    K = (P0-Pe)/(1-Pe)\n",
    "\n",
    "    if verbose:\n",
    "        print(df_kappacohen)\n",
    "    return K"
   ]
  },
  {
   "cell_type": "code",
   "execution_count": 95,
   "metadata": {},
   "outputs": [],
   "source": [
    "fname1 = \"data_new.csv\"\n",
    "fname2 = \"data_old.csv\"\n",
    "f1 = pd.read_csv(fname1, index_col=False)\n",
    "f2 = pd.read_csv(fname2, index_col=False)"
   ]
  },
  {
   "cell_type": "code",
   "execution_count": 97,
   "metadata": {},
   "outputs": [
    {
     "name": "stdout",
     "output_type": "stream",
     "text": [
      "       POS  NEU  NEG  total\n",
      "POS      3    4    0      7\n",
      "NEU      0   12    5     17\n",
      "NEG      0    3    3      6\n",
      "total    3   19    8     30\n",
      "kappa_cohen 0.29133858267716534\n"
     ]
    }
   ],
   "source": [
    "\"\"\" df1 = pd.DataFrame(columns=[\"label\", \"label_ministerio\"])\n",
    "df1.loc[df1.shape[0]] = \"a\", \"c\"\n",
    "df2 = pd.DataFrame(columns=[\"label\", \"label_ministerio\"])\n",
    "df2.loc[df2.shape[0]] = \"b\", \"d\" \"\"\"\n",
    "\n",
    "#print(\"kappa_cohen\", kappa_cohen(f1, f2, \"label\"))#, True))\n",
    "print(\"kappa_cohen\", kappa_cohen(f1, f2, \"label\", True))"
   ]
  },
  {
   "cell_type": "code",
   "execution_count": 93,
   "metadata": {},
   "outputs": [
    {
     "name": "stdout",
     "output_type": "stream",
     "text": [
      "kappa_cohen 0.7188755020080321\n"
     ]
    }
   ],
   "source": [
    "print(\"kappa_cohen\", kappa_cohen(f1, f2, \"label_ministerio\"))#, True))"
   ]
  }
 ],
 "metadata": {
  "kernelspec": {
   "display_name": "base",
   "language": "python",
   "name": "python3"
  },
  "language_info": {
   "codemirror_mode": {
    "name": "ipython",
    "version": 3
   },
   "file_extension": ".py",
   "mimetype": "text/x-python",
   "name": "python",
   "nbconvert_exporter": "python",
   "pygments_lexer": "ipython3",
   "version": "3.9.12"
  },
  "orig_nbformat": 4,
  "vscode": {
   "interpreter": {
    "hash": "befeb9f593cd3d435a278b211712fa4e8e7b5b47023d54d61c456bde9a6aaab4"
   }
  }
 },
 "nbformat": 4,
 "nbformat_minor": 2
}
