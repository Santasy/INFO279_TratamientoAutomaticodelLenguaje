{
 "cells": [
  {
   "cell_type": "markdown",
   "id": "00bc0c0a",
   "metadata": {},
   "source": [
    "# Entorno de trabajo: Crear un dataset de noticias de prensa a partir del motor de búsqueda Sophia"
   ]
  },
  {
   "cell_type": "markdown",
   "id": "dc35efc7",
   "metadata": {},
   "source": [
    "Este notebook muestra una manera de extraer noticias desde el motor de búsqueda de _Sophia_, a partir de una **palabra clave**, un **país** y un **periodo de tiempo**.\n",
    "\n",
    "\n",
    "_Sophia_ es un proyecto I+i+D desarrollado en la Universidad Austral de Chile desde 2019. El motor de búsqueda se encuentra en fase de mejoramiento continuo. Por cualquier pregunta o problema técnica con este notebook, no dudar en contactarme por Discord (@MatthieuVernier) o por correo mvernier@inf.uach.cl."
   ]
  },
  {
   "cell_type": "markdown",
   "id": "b60b79ff",
   "metadata": {},
   "source": [
    "## 0. Librerías útiles"
   ]
  },
  {
   "cell_type": "markdown",
   "id": "0284eded",
   "metadata": {},
   "source": [
    "- Elasticsearch es el motor de búsqueda utilizado por Sophia\n",
    "- Requiere la instalación del paquete elasticsearch"
   ]
  },
  {
   "cell_type": "code",
   "execution_count": 1,
   "id": "b500b748",
   "metadata": {},
   "outputs": [
    {
     "name": "stdout",
     "output_type": "stream",
     "text": [
      "Python 3.9.12\n"
     ]
    }
   ],
   "source": [
    "!python -V"
   ]
  },
  {
   "cell_type": "code",
   "execution_count": 2,
   "id": "0420b9c3",
   "metadata": {},
   "outputs": [
    {
     "name": "stdout",
     "output_type": "stream",
     "text": [
      "Requirement already satisfied: elasticsearch in /home/usuariop/miniconda3/lib/python3.9/site-packages (7.16.3)\n",
      "Requirement already satisfied: certifi in /home/usuariop/miniconda3/lib/python3.9/site-packages (from elasticsearch) (2022.6.15)\n",
      "Requirement already satisfied: urllib3<2,>=1.21.1 in /home/usuariop/miniconda3/lib/python3.9/site-packages (from elasticsearch) (1.26.8)\n"
     ]
    }
   ],
   "source": [
    "!pip install elasticsearch"
   ]
  },
  {
   "cell_type": "code",
   "execution_count": 3,
   "id": "8e32dfe6",
   "metadata": {},
   "outputs": [],
   "source": [
    "import elasticsearch\n",
    "from datetime import datetime"
   ]
  },
  {
   "cell_type": "code",
   "execution_count": 4,
   "id": "c05e81be",
   "metadata": {},
   "outputs": [
    {
     "data": {
      "text/plain": [
       "(7, 16, 3)"
      ]
     },
     "execution_count": 4,
     "metadata": {},
     "output_type": "execute_result"
    }
   ],
   "source": [
    "elasticsearch.__version__"
   ]
  },
  {
   "cell_type": "markdown",
   "id": "05a9c8c7",
   "metadata": {},
   "source": [
    "## 1. Parámetros de la búsqueda"
   ]
  },
  {
   "cell_type": "markdown",
   "id": "64de7603",
   "metadata": {},
   "source": [
    "Características del motor de búsqueda:  \n",
    "- El formato de las fechas es: YYYY-MM-DD\n",
    "- El motor de búsqueda incluye noticias por distintos paises, pero se recomienda utilizar \"chile\" por el momento.\n",
    "- El motor de búsqueda incluye datos entre el año 2000 y el año 2021."
   ]
  },
  {
   "cell_type": "code",
   "execution_count": 5,
   "id": "ce408e4d",
   "metadata": {},
   "outputs": [],
   "source": [
    "country=\"chile\"\n",
    "from_=\"2018-01-01\"\n",
    "to_=\"2021-12-31\"\n",
    "media_outlets=[\"elllanquihue\",\"elaustral\",\"laestrelladechiloe\",\"elheraldoaustral\",\"radiosago\",\n",
    "               \"elrepuertero\",\"elvacanudo\",\"elhuemul\",\"seminariolocal\",\"elquellonino\",\"elinsular\",\n",
    "               \"radiopudeto\",\"radioacogida\",\"elcalbucano\",\"segundos33\",\n",
    "               \"prensadelestuario\",\"fresiaahora\",\"soychiloe\"]\n",
    "\n",
    "keyword=\"carabinero\"\n",
    "simple_keyword=False"
   ]
  },
  {
   "cell_type": "markdown",
   "id": "6efe0b5a",
   "metadata": {},
   "source": [
    "## 2. Parámetros de conexión al motor de búsqueda de Sophia"
   ]
  },
  {
   "cell_type": "code",
   "execution_count": 6,
   "id": "621d9af0",
   "metadata": {},
   "outputs": [],
   "source": [
    "IP = \"search.sophia2.org\"\n",
    "PORT = 9200\n",
    "USER = \"elastic\"\n",
    "PASS = \"dummy_elastic\"\n",
    "\n",
    "es = elasticsearch.Elasticsearch(\n",
    "    f\"http://{IP}:{PORT}\",\n",
    "    http_auth=(USER, PASS)\n",
    ")"
   ]
  },
  {
   "cell_type": "markdown",
   "id": "440d3027",
   "metadata": {},
   "source": [
    "## 3. Búsqueda de noticias de prensa"
   ]
  },
  {
   "cell_type": "markdown",
   "id": "baeb2ceb",
   "metadata": {},
   "source": [
    "- Preparación de la consulta en el formato solicitado por Elasticsearch"
   ]
  },
  {
   "cell_type": "code",
   "execution_count": 7,
   "id": "7fdb0b5e",
   "metadata": {},
   "outputs": [],
   "source": [
    "#NO MODIFICAR\n",
    "query = { \n",
    "    \"bool\": {\n",
    "    \"filter\": [\n",
    "        {\"range\": {\n",
    "      \"date\": {\n",
    "        \"gte\": from_,\n",
    "        \"lt\": to_\n",
    "      }}},\n",
    "        { \"term\":  { \"country\": country }},\n",
    "        { \"terms\":  { \"media_outlet\": media_outlets }} \n",
    "    ]\n",
    "    }  \n",
    "}"
   ]
  },
  {
   "cell_type": "markdown",
   "id": "025f7b7c",
   "metadata": {},
   "source": [
    "- Envio de la consulta\n",
    "- No se puede devolver más de 10.000 noticias. En caso de obtener 10.000 respuestas, se recomienda buscar en un periodo de tiempo más corto o modificar la consulta."
   ]
  },
  {
   "cell_type": "code",
   "execution_count": 8,
   "id": "75593058",
   "metadata": {},
   "outputs": [
    {
     "name": "stdout",
     "output_type": "stream",
     "text": [
      "Son 10000 noticias encontradas...\n"
     ]
    }
   ],
   "source": [
    "res = es.search(index=\"news\", query=query, size=1000)\n",
    "print(\"Son %d noticias encontradas...\" % res['hits']['total']['value'])"
   ]
  },
  {
   "cell_type": "markdown",
   "id": "84d3ebba",
   "metadata": {},
   "source": [
    "## 4. Guardar los datos en un dataframe Pandas y en un archivo CSV"
   ]
  },
  {
   "cell_type": "code",
   "execution_count": 11,
   "id": "c40a60d6",
   "metadata": {},
   "outputs": [
    {
     "data": {
      "text/html": [
       "<div>\n",
       "<style scoped>\n",
       "    .dataframe tbody tr th:only-of-type {\n",
       "        vertical-align: middle;\n",
       "    }\n",
       "\n",
       "    .dataframe tbody tr th {\n",
       "        vertical-align: top;\n",
       "    }\n",
       "\n",
       "    .dataframe thead th {\n",
       "        text-align: right;\n",
       "    }\n",
       "</style>\n",
       "<table border=\"1\" class=\"dataframe\">\n",
       "  <thead>\n",
       "    <tr style=\"text-align: right;\">\n",
       "      <th></th>\n",
       "      <th>id_news</th>\n",
       "      <th>title</th>\n",
       "      <th>text</th>\n",
       "      <th>anotador</th>\n",
       "      <th>label</th>\n",
       "      <th>label_ministerio</th>\n",
       "    </tr>\n",
       "  </thead>\n",
       "  <tbody>\n",
       "    <tr>\n",
       "      <th>0</th>\n",
       "      <td>21858758</td>\n",
       "      <td>Pepsi se disculpó por publicidad sobre el cort...</td>\n",
       "      <td>La filial chilena de Pepsi ofreció disculpas p...</td>\n",
       "      <td>spacheco</td>\n",
       "      <td></td>\n",
       "      <td></td>\n",
       "    </tr>\n",
       "    <tr>\n",
       "      <th>1</th>\n",
       "      <td>21858768</td>\n",
       "      <td>Pdte Cámara de Diputados en visita a la Osorno...</td>\n",
       "      <td>En visita a la comuna de Osorno, el presidente...</td>\n",
       "      <td>spacheco</td>\n",
       "      <td></td>\n",
       "      <td></td>\n",
       "    </tr>\n",
       "    <tr>\n",
       "      <th>2</th>\n",
       "      <td>21858769</td>\n",
       "      <td>Chiloé activó centros de acopio donde reunir a...</td>\n",
       "      <td>Luego de conocer el adverso panorama de los ha...</td>\n",
       "      <td>spacheco</td>\n",
       "      <td></td>\n",
       "      <td></td>\n",
       "    </tr>\n",
       "    <tr>\n",
       "      <th>3</th>\n",
       "      <td>21858779</td>\n",
       "      <td>Gobierno interpuso denuncia en contra de quien...</td>\n",
       "      <td>Durante el último Comité Operativo de Emergenc...</td>\n",
       "      <td>spacheco</td>\n",
       "      <td></td>\n",
       "      <td></td>\n",
       "    </tr>\n",
       "    <tr>\n",
       "      <th>4</th>\n",
       "      <td>21858781</td>\n",
       "      <td>Corte de Agua: Cámara de Comercio de Osorno pr...</td>\n",
       "      <td>La Cámara de Comercio e Industrias, Servicios ...</td>\n",
       "      <td>spacheco</td>\n",
       "      <td></td>\n",
       "      <td></td>\n",
       "    </tr>\n",
       "    <tr>\n",
       "      <th>...</th>\n",
       "      <td>...</td>\n",
       "      <td>...</td>\n",
       "      <td>...</td>\n",
       "      <td>...</td>\n",
       "      <td>...</td>\n",
       "      <td>...</td>\n",
       "    </tr>\n",
       "    <tr>\n",
       "      <th>995</th>\n",
       "      <td>21869979</td>\n",
       "      <td>Región de Los Lagos se alza como un prometedor...</td>\n",
       "      <td>La región de Los Lagos siempre ha destacado co...</td>\n",
       "      <td>spacheco</td>\n",
       "      <td></td>\n",
       "      <td></td>\n",
       "    </tr>\n",
       "    <tr>\n",
       "      <th>996</th>\n",
       "      <td>21869982</td>\n",
       "      <td>Purranque se alza como polo cultural de Los La...</td>\n",
       "      <td>Imagen: Osvaldo Villaseca, encargado de la Uni...</td>\n",
       "      <td>spacheco</td>\n",
       "      <td></td>\n",
       "      <td></td>\n",
       "    </tr>\n",
       "    <tr>\n",
       "      <th>997</th>\n",
       "      <td>21869985</td>\n",
       "      <td>Celebran el Día Mundial de la leche en Plaza d...</td>\n",
       "      <td>Imagen: SoyOsorno Junto a las actividades efec...</td>\n",
       "      <td>spacheco</td>\n",
       "      <td></td>\n",
       "      <td></td>\n",
       "    </tr>\n",
       "    <tr>\n",
       "      <th>998</th>\n",
       "      <td>21869821</td>\n",
       "      <td>Homicidio queda al descubierto en vía pública ...</td>\n",
       "      <td>Imagen: Archivo Un trágico hecho de sangre es ...</td>\n",
       "      <td>spacheco</td>\n",
       "      <td></td>\n",
       "      <td></td>\n",
       "    </tr>\n",
       "    <tr>\n",
       "      <th>999</th>\n",
       "      <td>21869999</td>\n",
       "      <td>Comunicado donde el obispo Juan Barros manifes...</td>\n",
       "      <td>El texto de solo un párrafo, indica que “en el...</td>\n",
       "      <td>spacheco</td>\n",
       "      <td></td>\n",
       "      <td></td>\n",
       "    </tr>\n",
       "  </tbody>\n",
       "</table>\n",
       "<p>1000 rows × 6 columns</p>\n",
       "</div>"
      ],
      "text/plain": [
       "      id_news                                              title  \\\n",
       "0    21858758  Pepsi se disculpó por publicidad sobre el cort...   \n",
       "1    21858768  Pdte Cámara de Diputados en visita a la Osorno...   \n",
       "2    21858769  Chiloé activó centros de acopio donde reunir a...   \n",
       "3    21858779  Gobierno interpuso denuncia en contra de quien...   \n",
       "4    21858781  Corte de Agua: Cámara de Comercio de Osorno pr...   \n",
       "..        ...                                                ...   \n",
       "995  21869979  Región de Los Lagos se alza como un prometedor...   \n",
       "996  21869982  Purranque se alza como polo cultural de Los La...   \n",
       "997  21869985  Celebran el Día Mundial de la leche en Plaza d...   \n",
       "998  21869821  Homicidio queda al descubierto en vía pública ...   \n",
       "999  21869999  Comunicado donde el obispo Juan Barros manifes...   \n",
       "\n",
       "                                                  text  anotador label  \\\n",
       "0    La filial chilena de Pepsi ofreció disculpas p...  spacheco         \n",
       "1    En visita a la comuna de Osorno, el presidente...  spacheco         \n",
       "2    Luego de conocer el adverso panorama de los ha...  spacheco         \n",
       "3    Durante el último Comité Operativo de Emergenc...  spacheco         \n",
       "4    La Cámara de Comercio e Industrias, Servicios ...  spacheco         \n",
       "..                                                 ...       ...   ...   \n",
       "995  La región de Los Lagos siempre ha destacado co...  spacheco         \n",
       "996  Imagen: Osvaldo Villaseca, encargado de la Uni...  spacheco         \n",
       "997  Imagen: SoyOsorno Junto a las actividades efec...  spacheco         \n",
       "998  Imagen: Archivo Un trágico hecho de sangre es ...  spacheco         \n",
       "999  El texto de solo un párrafo, indica que “en el...  spacheco         \n",
       "\n",
       "    label_ministerio  \n",
       "0                     \n",
       "1                     \n",
       "2                     \n",
       "3                     \n",
       "4                     \n",
       "..               ...  \n",
       "995                   \n",
       "996                   \n",
       "997                   \n",
       "998                   \n",
       "999                   \n",
       "\n",
       "[1000 rows x 6 columns]"
      ]
     },
     "execution_count": 11,
     "metadata": {},
     "output_type": "execute_result"
    }
   ],
   "source": [
    "import pandas as pd\n",
    "\n",
    "data = {'id_news': [], 'title': [], 'text': [],\n",
    "        'anotador': [], 'label': [], \"label_ministerio\": []}\n",
    "\n",
    "df = pd.DataFrame(data)\n",
    "\n",
    "for hit in res['hits']['hits']:\n",
    "    id_news = hit['_source']['id_news']\n",
    "    title = hit['_source']['title']\n",
    "    text = hit['_source']['text']\n",
    "    df.loc[len(df.index)] = [id_news, title, text, \"spacheco\", \"\", \"\"]\n",
    "df\n"
   ]
  },
  {
   "cell_type": "markdown",
   "id": "0b2faf53",
   "metadata": {},
   "source": [
    "- Guardar los archivos en un CSV"
   ]
  },
  {
   "cell_type": "code",
   "execution_count": 12,
   "id": "b1371e58",
   "metadata": {},
   "outputs": [
    {
     "name": "stdout",
     "output_type": "stream",
     "text": [
      "El archivo se llama:\n",
      "carabinero_chile_2018-01-01_2021-12-31.csv\n"
     ]
    }
   ],
   "source": [
    "df_sample = df.sample(n=50, random_state=112233)\n",
    "nombre_archivo = keyword.replace(' ', '')+\"_\"+country+\"_\"+from_+\"_\"+to_+\".csv\"\n",
    "print(\"El archivo se llama:\")\n",
    "print(nombre_archivo)\n",
    "df_sample.to_csv(\"./sebap_anotaciones_manuales.csv\", sep=\";\")\n"
   ]
  },
  {
   "cell_type": "markdown",
   "id": "0a364f19",
   "metadata": {},
   "source": [
    "- Realizar algunas consultas SQL sobre el dataset"
   ]
  },
  {
   "cell_type": "code",
   "execution_count": 48,
   "id": "16f26651",
   "metadata": {},
   "outputs": [],
   "source": [
    "from pandasql import sqldf "
   ]
  },
  {
   "cell_type": "code",
   "execution_count": 49,
   "id": "8da54d23",
   "metadata": {},
   "outputs": [
    {
     "data": {
      "text/html": [
       "<div>\n",
       "<style scoped>\n",
       "    .dataframe tbody tr th:only-of-type {\n",
       "        vertical-align: middle;\n",
       "    }\n",
       "\n",
       "    .dataframe tbody tr th {\n",
       "        vertical-align: top;\n",
       "    }\n",
       "\n",
       "    .dataframe thead th {\n",
       "        text-align: right;\n",
       "    }\n",
       "</style>\n",
       "<table border=\"1\" class=\"dataframe\">\n",
       "  <thead>\n",
       "    <tr style=\"text-align: right;\">\n",
       "      <th></th>\n",
       "      <th>media_outlet</th>\n",
       "      <th>count(*)</th>\n",
       "    </tr>\n",
       "  </thead>\n",
       "  <tbody>\n",
       "    <tr>\n",
       "      <th>0</th>\n",
       "      <td>elllanquihue</td>\n",
       "      <td>465</td>\n",
       "    </tr>\n",
       "    <tr>\n",
       "      <th>1</th>\n",
       "      <td>elaustral</td>\n",
       "      <td>386</td>\n",
       "    </tr>\n",
       "    <tr>\n",
       "      <th>2</th>\n",
       "      <td>laestrelladechiloe</td>\n",
       "      <td>357</td>\n",
       "    </tr>\n",
       "    <tr>\n",
       "      <th>3</th>\n",
       "      <td>elvacanudo</td>\n",
       "      <td>236</td>\n",
       "    </tr>\n",
       "    <tr>\n",
       "      <th>4</th>\n",
       "      <td>elrepuertero</td>\n",
       "      <td>230</td>\n",
       "    </tr>\n",
       "    <tr>\n",
       "      <th>5</th>\n",
       "      <td>elheraldoaustral</td>\n",
       "      <td>217</td>\n",
       "    </tr>\n",
       "    <tr>\n",
       "      <th>6</th>\n",
       "      <td>radiosago</td>\n",
       "      <td>142</td>\n",
       "    </tr>\n",
       "    <tr>\n",
       "      <th>7</th>\n",
       "      <td>elhuemul</td>\n",
       "      <td>90</td>\n",
       "    </tr>\n",
       "    <tr>\n",
       "      <th>8</th>\n",
       "      <td>radiopudeto</td>\n",
       "      <td>42</td>\n",
       "    </tr>\n",
       "    <tr>\n",
       "      <th>9</th>\n",
       "      <td>seminariolocal</td>\n",
       "      <td>19</td>\n",
       "    </tr>\n",
       "    <tr>\n",
       "      <th>10</th>\n",
       "      <td>elquellonino</td>\n",
       "      <td>17</td>\n",
       "    </tr>\n",
       "    <tr>\n",
       "      <th>11</th>\n",
       "      <td>elinsular</td>\n",
       "      <td>16</td>\n",
       "    </tr>\n",
       "    <tr>\n",
       "      <th>12</th>\n",
       "      <td>radioacogida</td>\n",
       "      <td>14</td>\n",
       "    </tr>\n",
       "    <tr>\n",
       "      <th>13</th>\n",
       "      <td>elcalbucano</td>\n",
       "      <td>11</td>\n",
       "    </tr>\n",
       "    <tr>\n",
       "      <th>14</th>\n",
       "      <td>segundos33</td>\n",
       "      <td>4</td>\n",
       "    </tr>\n",
       "    <tr>\n",
       "      <th>15</th>\n",
       "      <td>prensadelestuario</td>\n",
       "      <td>4</td>\n",
       "    </tr>\n",
       "    <tr>\n",
       "      <th>16</th>\n",
       "      <td>fresiaahora</td>\n",
       "      <td>2</td>\n",
       "    </tr>\n",
       "    <tr>\n",
       "      <th>17</th>\n",
       "      <td>soychiloe</td>\n",
       "      <td>1</td>\n",
       "    </tr>\n",
       "  </tbody>\n",
       "</table>\n",
       "</div>"
      ],
      "text/plain": [
       "          media_outlet  count(*)\n",
       "0         elllanquihue       465\n",
       "1            elaustral       386\n",
       "2   laestrelladechiloe       357\n",
       "3           elvacanudo       236\n",
       "4         elrepuertero       230\n",
       "5     elheraldoaustral       217\n",
       "6            radiosago       142\n",
       "7             elhuemul        90\n",
       "8          radiopudeto        42\n",
       "9       seminariolocal        19\n",
       "10        elquellonino        17\n",
       "11           elinsular        16\n",
       "12        radioacogida        14\n",
       "13         elcalbucano        11\n",
       "14          segundos33         4\n",
       "15   prensadelestuario         4\n",
       "16         fresiaahora         2\n",
       "17           soychiloe         1"
      ]
     },
     "execution_count": 49,
     "metadata": {},
     "output_type": "execute_result"
    }
   ],
   "source": [
    "result = sqldf(\"SELECT media_outlet,count(*) FROM df GROUP BY media_outlet ORDER BY count(*) DESC\")\n",
    "result"
   ]
  },
  {
   "cell_type": "code",
   "execution_count": null,
   "id": "eca4c33d",
   "metadata": {},
   "outputs": [],
   "source": []
  },
  {
   "cell_type": "code",
   "execution_count": null,
   "id": "55a21946",
   "metadata": {},
   "outputs": [],
   "source": []
  },
  {
   "cell_type": "code",
   "execution_count": null,
   "id": "f1318799",
   "metadata": {},
   "outputs": [],
   "source": []
  }
 ],
 "metadata": {
  "kernelspec": {
   "display_name": "base",
   "language": "python",
   "name": "python3"
  },
  "language_info": {
   "codemirror_mode": {
    "name": "ipython",
    "version": 3
   },
   "file_extension": ".py",
   "mimetype": "text/x-python",
   "name": "python",
   "nbconvert_exporter": "python",
   "pygments_lexer": "ipython3",
   "version": "3.9.12"
  },
  "vscode": {
   "interpreter": {
    "hash": "befeb9f593cd3d435a278b211712fa4e8e7b5b47023d54d61c456bde9a6aaab4"
   }
  }
 },
 "nbformat": 4,
 "nbformat_minor": 5
}
